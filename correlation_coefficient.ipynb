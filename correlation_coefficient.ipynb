{
 "cells": [
  {
   "cell_type": "code",
   "execution_count": 35,
   "id": "849eab16",
   "metadata": {},
   "outputs": [],
   "source": [
    "import numpy as np\n",
    "import math"
   ]
  },
  {
   "cell_type": "code",
   "execution_count": 36,
   "id": "00cf26a4",
   "metadata": {},
   "outputs": [],
   "source": [
    "x = np.array([50, 60, 70, 80, 90])\n",
    "y = np.array([40, 70, 90, 60, 100])"
   ]
  },
  {
   "cell_type": "code",
   "execution_count": 37,
   "id": "42697d45",
   "metadata": {},
   "outputs": [
    {
     "data": {
      "text/plain": [
       "70.0"
      ]
     },
     "execution_count": 37,
     "metadata": {},
     "output_type": "execute_result"
    }
   ],
   "source": [
    "x_mean = x.mean() # moyenne de array x # np.mean(x) = x.mean()\n",
    "x_mean"
   ]
  },
  {
   "cell_type": "code",
   "execution_count": 38,
   "id": "8c7ec5ef",
   "metadata": {},
   "outputs": [
    {
     "data": {
      "text/plain": [
       "72.0"
      ]
     },
     "execution_count": 38,
     "metadata": {},
     "output_type": "execute_result"
    }
   ],
   "source": [
    "y_mean = np.mean(y) # moyenne de array y\n",
    "y_mean"
   ]
  },
  {
   "cell_type": "code",
   "execution_count": 61,
   "id": "6499c273",
   "metadata": {},
   "outputs": [
    {
     "data": {
      "text/plain": [
       "1100.0"
      ]
     },
     "execution_count": 61,
     "metadata": {},
     "output_type": "execute_result"
    }
   ],
   "source": [
    "xy_covariance = ((x - x_mean) * (y - y_mean)).sum()  # covariance entre x et y\n",
    "xy_covariance"
   ]
  },
  {
   "cell_type": "code",
   "execution_count": 62,
   "id": "d5d87684",
   "metadata": {},
   "outputs": [],
   "source": [
    "#(x - x_mean)\n",
    "#x_variance = np.power((x - x_mean), 2).sum() # total de carré de (x - x_mean) = variance de x\n",
    "#x_variance"
   ]
  },
  {
   "cell_type": "code",
   "execution_count": 69,
   "id": "25190acc",
   "metadata": {},
   "outputs": [
    {
     "data": {
      "text/plain": [
       "1000.0"
      ]
     },
     "execution_count": 69,
     "metadata": {},
     "output_type": "execute_result"
    }
   ],
   "source": [
    "x_variance = ((x - x_mean)**2).sum()\n",
    "x_variance"
   ]
  },
  {
   "cell_type": "code",
   "execution_count": 70,
   "id": "00480130",
   "metadata": {},
   "outputs": [
    {
     "data": {
      "text/plain": [
       "31.622776601683793"
      ]
     },
     "execution_count": 70,
     "metadata": {},
     "output_type": "execute_result"
    }
   ],
   "source": [
    "x_root = math.sqrt(x_variance) # racine carrée de variance de x\n",
    "x_root"
   ]
  },
  {
   "cell_type": "code",
   "execution_count": 66,
   "id": "b1fb91ae",
   "metadata": {},
   "outputs": [],
   "source": [
    "#(y - y_mean)\n",
    "#y_variance = np.power((y - y_mean), 2).sum() # total de carré de (y - y_mean) = variance de y\n",
    "#y_variance"
   ]
  },
  {
   "cell_type": "code",
   "execution_count": 71,
   "id": "391cef57",
   "metadata": {},
   "outputs": [
    {
     "data": {
      "text/plain": [
       "2280.0"
      ]
     },
     "execution_count": 71,
     "metadata": {},
     "output_type": "execute_result"
    }
   ],
   "source": [
    "y_variance = ((y - y_mean)**2).sum()\n",
    "y_variance"
   ]
  },
  {
   "cell_type": "code",
   "execution_count": 72,
   "id": "cb18adc9",
   "metadata": {},
   "outputs": [
    {
     "data": {
      "text/plain": [
       "47.74934554525329"
      ]
     },
     "execution_count": 72,
     "metadata": {},
     "output_type": "execute_result"
    }
   ],
   "source": [
    "y_root = math.sqrt(y_variance) # racine carrée de variance de y\n",
    "y_root"
   ]
  },
  {
   "cell_type": "code",
   "execution_count": 73,
   "id": "ae3edae7",
   "metadata": {},
   "outputs": [
    {
     "data": {
      "text/plain": [
       "0.728492796385774"
      ]
     },
     "execution_count": 73,
     "metadata": {},
     "output_type": "execute_result"
    }
   ],
   "source": [
    "r_calcule_manuel = xy_covariance / (x_root * y_root)\n",
    "r_calcule_manuel"
   ]
  },
  {
   "cell_type": "code",
   "execution_count": null,
   "id": "ac092527",
   "metadata": {},
   "outputs": [],
   "source": []
  },
  {
   "cell_type": "code",
   "execution_count": 23,
   "id": "c9a5b8a5",
   "metadata": {},
   "outputs": [],
   "source": [
    "x_std = np.std(x) # Écart type (racine carré de variance) de x"
   ]
  },
  {
   "cell_type": "code",
   "execution_count": 24,
   "id": "d29614b2",
   "metadata": {},
   "outputs": [
    {
     "data": {
      "text/plain": [
       "21.354156504062622"
      ]
     },
     "execution_count": 24,
     "metadata": {},
     "output_type": "execute_result"
    }
   ],
   "source": [
    "y_std = np.std(y) # Écart type (racine carré de variance) de y\n",
    "y_std"
   ]
  },
  {
   "cell_type": "code",
   "execution_count": 58,
   "id": "9f87c45a",
   "metadata": {},
   "outputs": [
    {
     "data": {
      "text/plain": [
       "array([[200., 220.],\n",
       "       [220., 456.]])"
      ]
     },
     "execution_count": 58,
     "metadata": {},
     "output_type": "execute_result"
    }
   ],
   "source": [
    "xy_cov = np.cov(x, y, bias=True) #Covariance\n",
    "xy_cov"
   ]
  },
  {
   "cell_type": "code",
   "execution_count": 26,
   "id": "aed45c19",
   "metadata": {},
   "outputs": [
    {
     "data": {
      "text/plain": [
       "array([[0.66226618, 0.7284928 ],\n",
       "       [0.7284928 , 1.50996689]])"
      ]
     },
     "execution_count": 26,
     "metadata": {},
     "output_type": "execute_result"
    }
   ],
   "source": [
    "r = xy_cov / (x_std * y_std)\n",
    "r"
   ]
  },
  {
   "cell_type": "code",
   "execution_count": 29,
   "id": "1b757dca",
   "metadata": {},
   "outputs": [
    {
     "data": {
      "text/plain": [
       "array([[1.       , 0.7284928],\n",
       "       [0.7284928, 1.       ]])"
      ]
     },
     "execution_count": 29,
     "metadata": {},
     "output_type": "execute_result"
    }
   ],
   "source": [
    "r_2 = np.corrcoef(x, y)\n",
    "r_2"
   ]
  },
  {
   "cell_type": "code",
   "execution_count": null,
   "id": "472e70f7",
   "metadata": {},
   "outputs": [],
   "source": []
  }
 ],
 "metadata": {
  "kernelspec": {
   "display_name": "Python 3 (ipykernel)",
   "language": "python",
   "name": "python3"
  },
  "language_info": {
   "codemirror_mode": {
    "name": "ipython",
    "version": 3
   },
   "file_extension": ".py",
   "mimetype": "text/x-python",
   "name": "python",
   "nbconvert_exporter": "python",
   "pygments_lexer": "ipython3",
   "version": "3.9.7"
  }
 },
 "nbformat": 4,
 "nbformat_minor": 5
}
